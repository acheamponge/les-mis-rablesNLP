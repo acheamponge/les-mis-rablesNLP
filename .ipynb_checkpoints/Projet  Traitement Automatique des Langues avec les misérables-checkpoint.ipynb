{
 "cells": [
  {
   "cell_type": "markdown",
   "metadata": {},
   "source": [
    "# Projet  Traitement Automatique des Langues"
   ]
  },
  {
   "cell_type": "markdown",
   "metadata": {},
   "source": [
    "# Les Misérables"
   ]
  },
  {
   "cell_type": "markdown",
   "metadata": {},
   "source": [
    "![SegmentLocal](img/2.jpg \"segment\")"
   ]
  },
  {
   "cell_type": "code",
   "execution_count": 1,
   "metadata": {},
   "outputs": [
    {
     "name": "stdout",
     "output_type": "stream",
     "text": [
      "['/Tome I - Fantine.txt', '/Tome II - Corsette.txt', '/Tome III - Marius.txt', \"/Tome IV - L'IDYLLE RUE PLUMET ET L'ÉPOPÉE RUE SAINT-DENIS.txt\", '/Tome V - Jean Valjean.txt']\n"
     ]
    }
   ],
   "source": [
    "import os             \n",
    "folder = \"./data\"\n",
    "folders = os.listdir(folder)\n",
    "#print(folders)\n",
    "\n",
    "txt_files = []\n",
    "\n",
    "for i in folders:\n",
    "    txt_files.append('/'+i)\n",
    "print(txt_files)"
   ]
  },
  {
   "cell_type": "code",
   "execution_count": 2,
   "metadata": {},
   "outputs": [],
   "source": [
    "import pandas as pd\n",
    "corpus = []\n",
    "\n",
    "for i in txt_files:\n",
    "    with open(folder+i,encoding='utf8') as f_input:\n",
    "        corpus.append(f_input.read())"
   ]
  },
  {
   "cell_type": "code",
   "execution_count": 3,
   "metadata": {},
   "outputs": [],
   "source": [
    "#print(corpus)"
   ]
  },
  {
   "cell_type": "code",
   "execution_count": 4,
   "metadata": {},
   "outputs": [],
   "source": [
    "words_list = []\n",
    "\n",
    "for phrase in corpus:\n",
    "    words_list.append((str(phrase)).split())\n",
    "#print(words_list)"
   ]
  },
  {
   "cell_type": "code",
   "execution_count": 5,
   "metadata": {},
   "outputs": [],
   "source": [
    "words_corpus = []\n",
    "for words in words_list:\n",
    "    for word in words:\n",
    "        words_corpus.append(word)\n",
    "#print(words_corpus)"
   ]
  },
  {
   "cell_type": "code",
   "execution_count": 6,
   "metadata": {},
   "outputs": [
    {
     "name": "stdout",
     "output_type": "stream",
     "text": [
      "514455\n"
     ]
    }
   ],
   "source": [
    "from collections import Counter\n",
    "\n",
    "word_count = Counter(words_corpus)\n",
    "a = 0\n",
    "#print(word_count.most_common())\n",
    "\n",
    "for i in word_count.most_common():\n",
    "    a += (i[1])\n",
    "print(a)\n",
    "#print(word_count.most_common())"
   ]
  },
  {
   "cell_type": "code",
   "execution_count": 7,
   "metadata": {},
   "outputs": [
    {
     "name": "stdout",
     "output_type": "stream",
     "text": [
      "61029\n"
     ]
    }
   ],
   "source": [
    "print(len(word_count.most_common()))"
   ]
  },
  {
   "cell_type": "code",
   "execution_count": null,
   "metadata": {},
   "outputs": [
    {
     "name": "stderr",
     "output_type": "stream",
     "text": [
      "c:\\users\\acham\\appdata\\local\\programs\\python\\python37\\lib\\site-packages\\sumy\\summarizers\\lsa.py:76: UserWarning: Number of words (6303) is lower than number of sentences (8244). LSA algorithm may not work properly.\n",
      "  warn(message % (words_count, sentences_count))\n"
     ]
    }
   ],
   "source": [
    "from sumy.parsers.plaintext import PlaintextParser\n",
    "from sumy.summarizers.lsa import LsaSummarizer\n",
    "from sumy.nlp.tokenizers import Tokenizer\n",
    "from sumy.nlp.stemmers import Stemmer\n",
    "from sumy.utils import get_stop_words\n",
    "\n",
    "lang = 'french'\n",
    "count = 5\n",
    "\n",
    "for i in range(len(corpus)):\n",
    "    new_string = corpus[i].replace('.', '. ').strip()\n",
    "    lsa = LsaSummarizer(Stemmer(lang))\n",
    "    lsa.stop_words = get_stop_words(lang)\n",
    "    parser = PlaintextParser.from_string(new_string, Tokenizer(lang))\n",
    "    lsa_summary = lsa(parser.document, count)\n",
    "    lsa_s = [str(sent) for sent in lsa_summary]\n",
    "    summary = ' '.join(lsa_s)\n",
    "    print(txt_files[i][:-4])\n",
    "    print(summary)\n",
    "    print(\"\")\n",
    "    print(\"\")\n",
    "    print(\"\")\n",
    "    "
   ]
  },
  {
   "cell_type": "code",
   "execution_count": null,
   "metadata": {},
   "outputs": [],
   "source": []
  }
 ],
 "metadata": {
  "kernelspec": {
   "display_name": "Python 3",
   "language": "python",
   "name": "python3"
  },
  "language_info": {
   "codemirror_mode": {
    "name": "ipython",
    "version": 3
   },
   "file_extension": ".py",
   "mimetype": "text/x-python",
   "name": "python",
   "nbconvert_exporter": "python",
   "pygments_lexer": "ipython3",
   "version": "3.7.6"
  }
 },
 "nbformat": 4,
 "nbformat_minor": 4
}
